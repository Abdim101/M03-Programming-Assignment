{
 "cells": [
  {
   "cell_type": "code",
   "execution_count": 1,
   "id": "7d7266f9",
   "metadata": {},
   "outputs": [
    {
     "data": {
      "text/plain": [
       "['mozzarella', 'cinderella', 'salmonella']"
      ]
     },
     "execution_count": 1,
     "metadata": {},
     "output_type": "execute_result"
    }
   ],
   "source": [
    ">>> things = ['mozzarella','cinderella','salmonella']\n",
    ">>> things"
   ]
  },
  {
   "cell_type": "code",
   "execution_count": 16,
   "id": "01353fe5",
   "metadata": {},
   "outputs": [
    {
     "data": {
      "text/plain": [
       "['MOZZARELLA', 'CINDERELLA', 'SALMONELLA']"
      ]
     },
     "execution_count": 16,
     "metadata": {},
     "output_type": "execute_result"
    }
   ],
   "source": [
    ">>> new_list = things.copy()\n",
    ">>> new_list\n",
    "['mozzarella','cinderella','salmonella']\n",
    ">>> new_list[2].capitalize()\n",
    "'Cinderella'\n",
    ">>> new_list"
   ]
  },
  {
   "cell_type": "code",
   "execution_count": 3,
   "id": "f6cad39e",
   "metadata": {},
   "outputs": [
    {
     "name": "stdout",
     "output_type": "stream",
     "text": [
      "['MOZZARELLA', 'CINDERELLA', 'SALMONELLA']\n"
     ]
    }
   ],
   "source": [
    ">>> things = [element.upper() for element in things];\n",
    ">>> print(things)"
   ]
  },
  {
   "cell_type": "code",
   "execution_count": 21,
   "id": "264491fb",
   "metadata": {},
   "outputs": [
    {
     "data": {
      "text/plain": [
       "['MOZZARELLA', 'CINDERELLA']"
      ]
     },
     "execution_count": 21,
     "metadata": {},
     "output_type": "execute_result"
    }
   ],
   "source": [
    ">>> things.remove('SALMONELLA')\n",
    ">>> things"
   ]
  },
  {
   "cell_type": "code",
   "execution_count": 20,
   "id": "4b8c8ec6",
   "metadata": {},
   "outputs": [
    {
     "name": "stdout",
     "output_type": "stream",
     "text": [
      "['Harry', 'Ron', 'Hermione']\n"
     ]
    }
   ],
   "source": [
    "def good():\n",
    "    return ['Harry','Ron','Hermione']\n",
    "print(good())\n"
   ]
  },
  {
   "cell_type": "code",
   "execution_count": 23,
   "id": "f777c6e4",
   "metadata": {},
   "outputs": [
    {
     "name": "stdout",
     "output_type": "stream",
     "text": [
      "5\n"
     ]
    }
   ],
   "source": [
    "limit = 10\n",
    "get_odds = (num for num in range(limit) if not num % 2 == 0)\n",
    "count = 0\n",
    "for num in get_odds:\n",
    "    if count == 2:\n",
    "        print(num)\n",
    "        break\n",
    "    count += 1"
   ]
  }
 ],
 "metadata": {
  "kernelspec": {
   "display_name": "Python 3 (ipykernel)",
   "language": "python",
   "name": "python3"
  },
  "language_info": {
   "codemirror_mode": {
    "name": "ipython",
    "version": 3
   },
   "file_extension": ".py",
   "mimetype": "text/x-python",
   "name": "python",
   "nbconvert_exporter": "python",
   "pygments_lexer": "ipython3",
   "version": "3.9.12"
  }
 },
 "nbformat": 4,
 "nbformat_minor": 5
}
